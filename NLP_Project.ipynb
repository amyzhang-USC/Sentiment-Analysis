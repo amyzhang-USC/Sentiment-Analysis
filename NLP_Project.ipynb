{
  "nbformat": 4,
  "nbformat_minor": 0,
  "metadata": {
    "colab": {
      "name": "NLP Project",
      "provenance": [],
      "machine_shape": "hm",
      "authorship_tag": "ABX9TyPlnFtTpgaL8gApk/Cmx/WU",
      "include_colab_link": true
    },
    "kernelspec": {
      "name": "python3",
      "display_name": "Python 3"
    }
  },
  "cells": [
    {
      "cell_type": "markdown",
      "metadata": {
        "id": "view-in-github",
        "colab_type": "text"
      },
      "source": [
        "<a href=\"https://colab.research.google.com/github/amyzhang-USC/Sentiment-Analysis/blob/main/NLP_Project.ipynb\" target=\"_parent\"><img src=\"https://colab.research.google.com/assets/colab-badge.svg\" alt=\"Open In Colab\"/></a>"
      ]
    },
    {
      "cell_type": "code",
      "metadata": {
        "id": "Qaq3oaqERq7F",
        "outputId": "6a2db2a3-4912-4c78-be98-377cbb2befc4",
        "colab": {
          "base_uri": "https://localhost:8080/"
        }
      },
      "source": [
        "pip install contractions"
      ],
      "execution_count": 1,
      "outputs": [
        {
          "output_type": "stream",
          "name": "stdout",
          "text": [
            "Collecting contractions\n",
            "  Downloading contractions-0.0.58-py2.py3-none-any.whl (8.0 kB)\n",
            "Collecting textsearch>=0.0.21\n",
            "  Downloading textsearch-0.0.21-py2.py3-none-any.whl (7.5 kB)\n",
            "Collecting pyahocorasick\n",
            "  Downloading pyahocorasick-1.4.2.tar.gz (321 kB)\n",
            "\u001b[K     |████████████████████████████████| 321 kB 4.9 MB/s \n",
            "\u001b[?25hCollecting anyascii\n",
            "  Downloading anyascii-0.3.0-py3-none-any.whl (284 kB)\n",
            "\u001b[K     |████████████████████████████████| 284 kB 55.3 MB/s \n",
            "\u001b[?25hBuilding wheels for collected packages: pyahocorasick\n",
            "  Building wheel for pyahocorasick (setup.py) ... \u001b[?25l\u001b[?25hdone\n",
            "  Created wheel for pyahocorasick: filename=pyahocorasick-1.4.2-cp37-cp37m-linux_x86_64.whl size=85445 sha256=d500ceef6a1d587bcffac0f7313a5d3d522993f4784d01c5efec8e48bb0f745a\n",
            "  Stored in directory: /root/.cache/pip/wheels/25/19/a6/8f363d9939162782bb8439d886469756271abc01f76fbd790f\n",
            "Successfully built pyahocorasick\n",
            "Installing collected packages: pyahocorasick, anyascii, textsearch, contractions\n",
            "Successfully installed anyascii-0.3.0 contractions-0.0.58 pyahocorasick-1.4.2 textsearch-0.0.21\n"
          ]
        }
      ]
    },
    {
      "cell_type": "code",
      "source": [
        "import pandas as pd\n",
        "import re\n",
        "import contractions\n",
        "import nltk\n",
        "from nltk.corpus import stopwords\n",
        "nltk.download('stopwords')\n",
        "nltk.download('wordnet')\n",
        "from nltk.stem import WordNetLemmatizer\n",
        "from sklearn.feature_extraction.text import TfidfVectorizer\n",
        "from sklearn.model_selection import train_test_split\n",
        "from sklearn.naive_bayes import MultinomialNB\n",
        "import matplotlib.pyplot as plt\n",
        "from sklearn.metrics import plot_confusion_matrix\n",
        "import warnings\n",
        "warnings.filterwarnings('ignore')"
      ],
      "metadata": {
        "colab": {
          "base_uri": "https://localhost:8080/"
        },
        "id": "HoLhVxFgxr01",
        "outputId": "4fa51415-3bba-47a0-d0fb-42d54bbbe529"
      },
      "execution_count": 2,
      "outputs": [
        {
          "output_type": "stream",
          "name": "stdout",
          "text": [
            "[nltk_data] Downloading package stopwords to /root/nltk_data...\n",
            "[nltk_data]   Unzipping corpora/stopwords.zip.\n",
            "[nltk_data] Downloading package wordnet to /root/nltk_data...\n",
            "[nltk_data]   Unzipping corpora/wordnet.zip.\n"
          ]
        }
      ]
    },
    {
      "cell_type": "code",
      "source": [
        "review_data = pd.read_csv('amazon_reviews_us_Kitchen_v1_00.tsv', sep='\\t', error_bad_lines=False)\n",
        "pd.set_option(\"display.max.columns\", None)"
      ],
      "metadata": {
        "colab": {
          "base_uri": "https://localhost:8080/"
        },
        "id": "f5hO8QHPx073",
        "outputId": "18b4841f-2424-4916-e2d4-0f5afbd62dc4"
      },
      "execution_count": 3,
      "outputs": [
        {
          "output_type": "stream",
          "name": "stderr",
          "text": [
            "b'Skipping line 16148: expected 15 fields, saw 22\\nSkipping line 20100: expected 15 fields, saw 22\\nSkipping line 45178: expected 15 fields, saw 22\\nSkipping line 48700: expected 15 fields, saw 22\\nSkipping line 63331: expected 15 fields, saw 22\\n'\n"
          ]
        }
      ]
    },
    {
      "cell_type": "code",
      "source": [
        "df = review_data.head(10)\n",
        "print(df)"
      ],
      "metadata": {
        "colab": {
          "base_uri": "https://localhost:8080/"
        },
        "id": "7b7_NTQ-x7a1",
        "outputId": "11e4e7c5-6a46-4b13-ca7f-5dfeec8ab7fc"
      },
      "execution_count": 4,
      "outputs": [
        {
          "output_type": "stream",
          "name": "stdout",
          "text": [
            "  marketplace  customer_id       review_id  product_id  product_parent  \\\n",
            "0          US     37000337  R3DT59XH7HXR9K  B00303FI0G       529320574   \n",
            "1          US     15272914  R1LFS11BNASSU8  B00JCZKZN6       274237558   \n",
            "2          US     36137863  R296RT05AG0AF6  B00JLIKA5C       544675303   \n",
            "3          US     43311049  R3V37XDZ7ZCI3L  B000GBNB8G       491599489   \n",
            "4          US     13763148  R14GU232NQFYX2  B00VJ5KX9S       353790155   \n",
            "5          US     19009420   RZQH4V7L2O1PL  B00HYB5YY0       432241873   \n",
            "6          US     40599388  R1F8JMOSPJ3KO7  B000HEBAV2       584680984   \n",
            "7          US     22719359  R1ZISGY2BWW4Z5  B0012DS4GG       772637306   \n",
            "8          US     47478640  R17PW4I3AE5WZW  B00FLQ4EE6       755416578   \n",
            "9          US     34195504  R3D93G1KTP6A8P  B00DBS9OTG       648762742   \n",
            "\n",
            "                                       product_title product_category  \\\n",
            "0                    Arthur Court Paper Towel Holder          Kitchen   \n",
            "1  Olde Thompson Bavaria Glass Salt and Pepper Mi...          Kitchen   \n",
            "2  Progressive International PL8 Professional Man...          Kitchen   \n",
            "3                          Zyliss Jumbo Garlic Press          Kitchen   \n",
            "4  1 X Premier Pizza Cutter - Stainless Steel 14\"...          Kitchen   \n",
            "5                                      CHEF Aluminum          Kitchen   \n",
            "6    Presto Dual Profry Immersion Element Deep Fryer          Kitchen   \n",
            "7    Rubbermaid Produce Saver Food Storage Container          Kitchen   \n",
            "8                       Cuisinart 12-Piece Knife Set          Kitchen   \n",
            "9  Kegco 6\" Stainless Steel Wall Mount Drip Tray ...          Kitchen   \n",
            "\n",
            "   star_rating  helpful_votes  total_votes vine verified_purchase  \\\n",
            "0            5              0            0    N                 Y   \n",
            "1            5              0            1    N                 Y   \n",
            "2            5              0            0    N                 Y   \n",
            "3            5              0            1    N                 Y   \n",
            "4            5              0            0    N                 Y   \n",
            "5            1              1            1    N                 Y   \n",
            "6            5              0            0    N                 Y   \n",
            "7            5              0            0    N                 Y   \n",
            "8            5              0            0    N                 Y   \n",
            "9            3              0            0    N                 Y   \n",
            "\n",
            "                                     review_headline  \\\n",
            "0                  Beautiful. Looks great on counter   \n",
            "1                                Awesome & Self-ness   \n",
            "2                     Fabulous and worth every penny   \n",
            "3                                         Five Stars   \n",
            "4                                    Better than sex   \n",
            "5  Does not work on Induction Stoves! (NOT suitab...   \n",
            "6   Awesome! First fryer I have owned and what a ...   \n",
            "7                                         Five Stars   \n",
            "8                                         Five Stars   \n",
            "9                                        Three Stars   \n",
            "\n",
            "                                         review_body review_date  \n",
            "0                Beautiful.  Looks great on counter.  2015-08-31  \n",
            "1  I personally have 5 days sets and have also bo...  2015-08-31  \n",
            "2  Fabulous and worth every penny. Used for clean...  2015-08-31  \n",
            "3  A must if you love garlic on tomato marinara s...  2015-08-31  \n",
            "4  Worth every penny! Buy one now and be a pizza ...  2015-08-31  \n",
            "5  The description says &#34;Suitable for all typ...  2015-08-31  \n",
            "6  Awesome! First fryer I have owned and what a l...  2015-08-31  \n",
            "7                    Very good item. Quick delivery.  2015-08-31  \n",
            "8                               sharp and look great  2015-08-31  \n",
            "9  Should have come with a kit to install drain t...  2015-08-31  \n"
          ]
        }
      ]
    },
    {
      "cell_type": "code",
      "source": [
        "retained_data = review_data[['review_body','star_rating']]\n",
        "positive_review = retained_data[retained_data['star_rating'] > 3]\n",
        "print(positive_review)\n",
        "negative_review = retained_data[retained_data['star_rating'] < 3]\n",
        "print(negative_review)"
      ],
      "metadata": {
        "colab": {
          "base_uri": "https://localhost:8080/"
        },
        "id": "e7Kxebokx-em",
        "outputId": "e47dd61b-513d-4c73-ed7c-876f5b4911c6"
      },
      "execution_count": 5,
      "outputs": [
        {
          "output_type": "stream",
          "name": "stdout",
          "text": [
            "                                             review_body  star_rating\n",
            "0                    Beautiful.  Looks great on counter.            5\n",
            "1      I personally have 5 days sets and have also bo...            5\n",
            "2      Fabulous and worth every penny. Used for clean...            5\n",
            "3      A must if you love garlic on tomato marinara s...            5\n",
            "4      Worth every penny! Buy one now and be a pizza ...            5\n",
            "...                                                  ...          ...\n",
            "85035               I have a full set and like them all.            5\n",
            "85036  Great coffeemaker for our RV. Highly recommend...            5\n",
            "85037                                       As Described            5\n",
            "85038  I didn't expect much because of the price, but...            5\n",
            "85039                                                NaN            5\n",
            "\n",
            "[69200 rows x 2 columns]\n",
            "                                             review_body  star_rating\n",
            "5      The description says &#34;Suitable for all typ...            1\n",
            "24                       I hate it I cook in regular pot            1\n",
            "25     The velcro does not hold well.  Does stat cold...            2\n",
            "33     I have to give it one star because it leaks, n...            1\n",
            "35     I ordered this 07/09/15 and used 1 of the glas...            1\n",
            "...                                                  ...          ...\n",
            "85007  I had a maragrita from a restraunt and they sa...            2\n",
            "85013  It didn't last very long. The paint started ch...            2\n",
            "85022  You will not get the classy looking deck in th...            1\n",
            "85028  I bought this wok and was so excited to use it...            1\n",
            "85031                  Its a very s***ty scale honestly.            1\n",
            "\n",
            "[10136 rows x 2 columns]\n"
          ]
        }
      ]
    },
    {
      "cell_type": "code",
      "source": [
        "positive_review = positive_review.sample(n=100000, replace = True)\n",
        "positive_review.loc[positive_review[\"star_rating\"] > 3, \"star_rating\"] = 1\n",
        "negative_review = negative_review.sample(n=100000, replace = True)\n",
        "negative_review.loc[negative_review[\"star_rating\"] < 3, \"star_rating\"] = 0\n",
        "new_df = pd.concat([positive_review, negative_review])\n",
        "print(new_df)"
      ],
      "metadata": {
        "colab": {
          "base_uri": "https://localhost:8080/"
        },
        "id": "AptVwl8MyFTM",
        "outputId": "ba795d87-517d-4ab7-ecf7-4fb11af147af"
      },
      "execution_count": 48,
      "outputs": [
        {
          "output_type": "stream",
          "name": "stdout",
          "text": [
            "                                             review_body  star_rating\n",
            "15702  This is so handy!  It easy to remember to use,...            1\n",
            "75970                                  Very hand to use.            1\n",
            "76360  Works great. Do wish the waffle grates were re...            1\n",
            "15903  All three of the Plastic Travel Flasks arrived...            1\n",
            "63503  My husband purchased these to measure powdered...            1\n",
            "...                                                  ...          ...\n",
            "84414    It does not filter out the slugg of the coffee.            0\n",
            "60279  1 of 4 &#34;shatter proof&#34; glasses were br...            0\n",
            "49983  I bought this item hoping I would be able to s...            0\n",
            "1348              The quality is not good as on picture.            0\n",
            "55281  The bottom is too thin. I wish I had noticed t...            0\n",
            "\n",
            "[200000 rows x 2 columns]\n"
          ]
        }
      ]
    },
    {
      "cell_type": "code",
      "source": [
        "# Convert all the reviews to lowercase\n",
        "new_df[\"review_body\"] = new_df[\"review_body\"].str.lower()\n",
        "print(new_df)"
      ],
      "metadata": {
        "colab": {
          "base_uri": "https://localhost:8080/"
        },
        "id": "j8OdHcKWyOAq",
        "outputId": "74da53b7-8010-4d4e-949a-d59d87134e19"
      },
      "execution_count": 49,
      "outputs": [
        {
          "output_type": "stream",
          "name": "stdout",
          "text": [
            "                                             review_body  star_rating\n",
            "15702  this is so handy!  it easy to remember to use,...            1\n",
            "75970                                  very hand to use.            1\n",
            "76360  works great. do wish the waffle grates were re...            1\n",
            "15903  all three of the plastic travel flasks arrived...            1\n",
            "63503  my husband purchased these to measure powdered...            1\n",
            "...                                                  ...          ...\n",
            "84414    it does not filter out the slugg of the coffee.            0\n",
            "60279  1 of 4 &#34;shatter proof&#34; glasses were br...            0\n",
            "49983  i bought this item hoping i would be able to s...            0\n",
            "1348              the quality is not good as on picture.            0\n",
            "55281  the bottom is too thin. i wish i had noticed t...            0\n",
            "\n",
            "[200000 rows x 2 columns]\n"
          ]
        }
      ]
    },
    {
      "cell_type": "code",
      "source": [
        "# Remove URLs\n",
        "new_df['review_body'] = new_df['review_body'].str.replace(r'http\\S+', r'',regex=True)\n",
        "print(new_df)"
      ],
      "metadata": {
        "colab": {
          "base_uri": "https://localhost:8080/"
        },
        "id": "HC0-qZZhybj-",
        "outputId": "7403bcf2-0cbd-4b11-a7a0-8b3d588c774a"
      },
      "execution_count": 50,
      "outputs": [
        {
          "output_type": "stream",
          "name": "stdout",
          "text": [
            "                                             review_body  star_rating\n",
            "15702  this is so handy!  it easy to remember to use,...            1\n",
            "75970                                  very hand to use.            1\n",
            "76360  works great. do wish the waffle grates were re...            1\n",
            "15903  all three of the plastic travel flasks arrived...            1\n",
            "63503  my husband purchased these to measure powdered...            1\n",
            "...                                                  ...          ...\n",
            "84414    it does not filter out the slugg of the coffee.            0\n",
            "60279  1 of 4 &#34;shatter proof&#34; glasses were br...            0\n",
            "49983  i bought this item hoping i would be able to s...            0\n",
            "1348              the quality is not good as on picture.            0\n",
            "55281  the bottom is too thin. i wish i had noticed t...            0\n",
            "\n",
            "[200000 rows x 2 columns]\n"
          ]
        }
      ]
    },
    {
      "cell_type": "code",
      "source": [
        "# Remove HTML\n",
        "new_df['review_body'] = new_df['review_body'].str.replace(r'<[^<>]*>', '', regex=True)\n",
        "print(new_df)"
      ],
      "metadata": {
        "colab": {
          "base_uri": "https://localhost:8080/"
        },
        "id": "4SNbPvX8yf_S",
        "outputId": "95f4f759-bdb0-4635-b92f-5be01cf80782"
      },
      "execution_count": 51,
      "outputs": [
        {
          "output_type": "stream",
          "name": "stdout",
          "text": [
            "                                             review_body  star_rating\n",
            "15702  this is so handy!  it easy to remember to use,...            1\n",
            "75970                                  very hand to use.            1\n",
            "76360  works great. do wish the waffle grates were re...            1\n",
            "15903  all three of the plastic travel flasks arrived...            1\n",
            "63503  my husband purchased these to measure powdered...            1\n",
            "...                                                  ...          ...\n",
            "84414    it does not filter out the slugg of the coffee.            0\n",
            "60279  1 of 4 &#34;shatter proof&#34; glasses were br...            0\n",
            "49983  i bought this item hoping i would be able to s...            0\n",
            "1348              the quality is not good as on picture.            0\n",
            "55281  the bottom is too thin. i wish i had noticed t...            0\n",
            "\n",
            "[200000 rows x 2 columns]\n"
          ]
        }
      ]
    },
    {
      "cell_type": "code",
      "source": [
        "# Perform contractions on the reviews\n",
        "def expandWord(x):\n",
        "    expanded_words = []\n",
        "    for word in x.split():\n",
        "        # using contractions.fix to expand the shotened words\n",
        "        expanded_words.append(contractions.fix(word))\n",
        "    return ' '.join(expanded_words)\n",
        "\n",
        "new_df['review_body'] = new_df['review_body'].apply(lambda x: expandWord(str(x)))\n",
        "print(new_df)"
      ],
      "metadata": {
        "colab": {
          "base_uri": "https://localhost:8080/"
        },
        "id": "AfggC2XQyjXX",
        "outputId": "9a1dccb4-6e06-40e4-b9a2-993cce43b70d"
      },
      "execution_count": 52,
      "outputs": [
        {
          "output_type": "stream",
          "name": "stdout",
          "text": [
            "                                             review_body  star_rating\n",
            "15702  this is so handy! it easy to remember to use, ...            1\n",
            "75970                                  very hand to use.            1\n",
            "76360  works great. do wish the waffle grates were re...            1\n",
            "15903  all three of the plastic travel flasks arrived...            1\n",
            "63503  my husband purchased these to measure powdered...            1\n",
            "...                                                  ...          ...\n",
            "84414    it does not filter out the slugg of the coffee.            0\n",
            "60279  1 of 4 &#34;shatter proof&#34; glasses were br...            0\n",
            "49983  i bought this item hoping i would be able to s...            0\n",
            "1348              the quality is not good as on picture.            0\n",
            "55281  the bottom is too thin. i wish i had noticed t...            0\n",
            "\n",
            "[200000 rows x 2 columns]\n"
          ]
        }
      ]
    },
    {
      "cell_type": "code",
      "source": [
        "# Convert all the reviews to lowercase again\n",
        "new_df[\"review_body\"] = new_df[\"review_body\"].str.lower()\n",
        "print(new_df)"
      ],
      "metadata": {
        "colab": {
          "base_uri": "https://localhost:8080/"
        },
        "id": "4hrluBGsyy0c",
        "outputId": "b099da1c-1b9b-4ecc-8e3a-d7c182964bab"
      },
      "execution_count": 53,
      "outputs": [
        {
          "output_type": "stream",
          "name": "stdout",
          "text": [
            "                                             review_body  star_rating\n",
            "15702  this is so handy! it easy to remember to use, ...            1\n",
            "75970                                  very hand to use.            1\n",
            "76360  works great. do wish the waffle grates were re...            1\n",
            "15903  all three of the plastic travel flasks arrived...            1\n",
            "63503  my husband purchased these to measure powdered...            1\n",
            "...                                                  ...          ...\n",
            "84414    it does not filter out the slugg of the coffee.            0\n",
            "60279  1 of 4 &#34;shatter proof&#34; glasses were br...            0\n",
            "49983  i bought this item hoping i would be able to s...            0\n",
            "1348              the quality is not good as on picture.            0\n",
            "55281  the bottom is too thin. i wish i had noticed t...            0\n",
            "\n",
            "[200000 rows x 2 columns]\n"
          ]
        }
      ]
    },
    {
      "cell_type": "code",
      "source": [
        "# Remove non alphabetical characters\n",
        "new_df['review_body'] = new_df['review_body'].apply(lambda x:re.sub(r'[^A-Za-z ]+', '', x))\n",
        "print(new_df)"
      ],
      "metadata": {
        "colab": {
          "base_uri": "https://localhost:8080/"
        },
        "id": "axkgD_opy6Fl",
        "outputId": "cdc876f2-bfcb-4b04-fd4a-83e7653c7565"
      },
      "execution_count": 54,
      "outputs": [
        {
          "output_type": "stream",
          "name": "stdout",
          "text": [
            "                                             review_body  star_rating\n",
            "15702  this is so handy it easy to remember to use as...            1\n",
            "75970                                   very hand to use            1\n",
            "76360  works great do wish the waffle grates were rem...            1\n",
            "15903  all three of the plastic travel flasks arrived...            1\n",
            "63503  my husband purchased these to measure powdered...            1\n",
            "...                                                  ...          ...\n",
            "84414     it does not filter out the slugg of the coffee            0\n",
            "60279   of  shatter proof glasses were broken upon de...            0\n",
            "49983  i bought this item hoping i would be able to s...            0\n",
            "1348               the quality is not good as on picture            0\n",
            "55281  the bottom is too thin i wish i had noticed th...            0\n",
            "\n",
            "[200000 rows x 2 columns]\n"
          ]
        }
      ]
    },
    {
      "cell_type": "code",
      "source": [
        "# Remove extra spaces between words\n",
        "new_df['review_body'] = new_df['review_body'].apply(lambda x:re.sub(' +', ' ', x))\n",
        "print(new_df)"
      ],
      "metadata": {
        "colab": {
          "base_uri": "https://localhost:8080/"
        },
        "id": "rfrq_dmTy9Sx",
        "outputId": "921a1c7d-605c-4d9f-be34-2ab365ac1ed7"
      },
      "execution_count": 55,
      "outputs": [
        {
          "output_type": "stream",
          "name": "stdout",
          "text": [
            "                                             review_body  star_rating\n",
            "15702  this is so handy it easy to remember to use as...            1\n",
            "75970                                   very hand to use            1\n",
            "76360  works great do wish the waffle grates were rem...            1\n",
            "15903  all three of the plastic travel flasks arrived...            1\n",
            "63503  my husband purchased these to measure powdered...            1\n",
            "...                                                  ...          ...\n",
            "84414     it does not filter out the slugg of the coffee            0\n",
            "60279   of shatter proof glasses were broken upon del...            0\n",
            "49983  i bought this item hoping i would be able to s...            0\n",
            "1348               the quality is not good as on picture            0\n",
            "55281  the bottom is too thin i wish i had noticed th...            0\n",
            "\n",
            "[200000 rows x 2 columns]\n"
          ]
        }
      ]
    },
    {
      "cell_type": "code",
      "source": [
        "# Remove stop words\n",
        "stop = stopwords.words('english')\n",
        "new_df['review_body'] = new_df['review_body'].apply(lambda x: ' '.join([word for word in x.split() if word not in (stop)]))\n",
        "print(new_df)"
      ],
      "metadata": {
        "colab": {
          "base_uri": "https://localhost:8080/"
        },
        "id": "8ZCs2gR-zCXA",
        "outputId": "3f49ba0e-f361-468d-ed1f-4f6799d6d73a"
      },
      "execution_count": 56,
      "outputs": [
        {
          "output_type": "stream",
          "name": "stdout",
          "text": [
            "                                             review_body  star_rating\n",
            "15702  handy easy remember use others must take turn ...            1\n",
            "75970                                           hand use            1\n",
            "76360  works great wish waffle grates removable cleaning            1\n",
            "15903  three plastic travel flasks arrived timely wel...            1\n",
            "63503  husband purchased measure powdered medication ...            1\n",
            "...                                                  ...          ...\n",
            "84414                                filter slugg coffee            0\n",
            "60279         shatter proof glasses broken upon delivery            0\n",
            "49983  bought item hoping would able scramble eggs en...            0\n",
            "1348                                quality good picture            0\n",
            "55281  bottom thin wish noticed finally tossed packag...            0\n",
            "\n",
            "[200000 rows x 2 columns]\n"
          ]
        }
      ]
    },
    {
      "cell_type": "code",
      "source": [
        "# Perform Lemmatization\n",
        "lemmatizer = WordNetLemmatizer()\n",
        "new_df['review_body'] = new_df['review_body'].apply(lambda x:\" \".join([lemmatizer.lemmatize(str(w)) for w in x.split()]))\n",
        "print(new_df)"
      ],
      "metadata": {
        "colab": {
          "base_uri": "https://localhost:8080/"
        },
        "id": "CqTiMOqPzIhC",
        "outputId": "06ee7cac-fa51-4a13-a35f-8767838da9de"
      },
      "execution_count": 57,
      "outputs": [
        {
          "output_type": "stream",
          "name": "stdout",
          "text": [
            "                                             review_body  star_rating\n",
            "15702  handy easy remember use others must take turn ...            1\n",
            "75970                                           hand use            1\n",
            "76360    work great wish waffle grate removable cleaning            1\n",
            "15903  three plastic travel flask arrived timely well...            1\n",
            "63503  husband purchased measure powdered medication ...            1\n",
            "...                                                  ...          ...\n",
            "84414                                filter slugg coffee            0\n",
            "60279           shatter proof glass broken upon delivery            0\n",
            "49983  bought item hoping would able scramble egg enj...            0\n",
            "1348                                quality good picture            0\n",
            "55281  bottom thin wish noticed finally tossed packag...            0\n",
            "\n",
            "[200000 rows x 2 columns]\n"
          ]
        }
      ]
    },
    {
      "cell_type": "code",
      "source": [
        "X = new_df[\"review_body\"]\n",
        "y = new_df[\"star_rating\"]\n",
        "\n",
        "X_train, X_test, y_train, y_test = train_test_split(X,y, test_size=0.2, random_state= 2021, stratify= y)"
      ],
      "metadata": {
        "id": "PeeIdwt11TMS"
      },
      "execution_count": 58,
      "outputs": []
    },
    {
      "cell_type": "code",
      "source": [
        "vectorizer = TfidfVectorizer()\n",
        "X_train = vectorizer.fit_transform(X_train)\n",
        "X_test = vectorizer.transform(X_test)\n",
        "X_train_tfidf = pd.DataFrame(X_train.toarray(), columns=vectorizer.get_feature_names())\n",
        "X_test_tfidf = pd.DataFrame(X_test.toarray(), columns=vectorizer.get_feature_names())\n",
        "print(\"Tfidf features:\")\n",
        "print(X_train_tfidf.shape)\n",
        "print(X_test_tfidf.shape)"
      ],
      "metadata": {
        "colab": {
          "base_uri": "https://localhost:8080/"
        },
        "id": "aeo2V5C31YbV",
        "outputId": "6d1cee55-cc07-4d0e-aa27-353551e6a4e4"
      },
      "execution_count": 59,
      "outputs": [
        {
          "output_type": "stream",
          "name": "stdout",
          "text": [
            "Tfidf features:\n",
            "(160000, 11745)\n",
            "(40000, 11745)\n"
          ]
        }
      ]
    },
    {
      "cell_type": "code",
      "source": [
        "multinomial = MultinomialNB()\n",
        "multinomial.fit(X_train, y_train)\n",
        "accuracy_score = multinomial.score(X_train, y_train)\n",
        "print(\"The accuracy score on training data is: \", accuracy_score)"
      ],
      "metadata": {
        "colab": {
          "base_uri": "https://localhost:8080/"
        },
        "id": "AKXBLYJH1drW",
        "outputId": "aae09d57-df36-4329-cfb5-97ad830f0a03"
      },
      "execution_count": 60,
      "outputs": [
        {
          "output_type": "stream",
          "name": "stdout",
          "text": [
            "The accuracy score on training data is:  0.94595625\n"
          ]
        }
      ]
    },
    {
      "cell_type": "code",
      "source": [
        "y_predict = multinomial.predict(X_test)\n",
        "accuracy_score = multinomial.score(X_test, y_test)\n",
        "print(\"The accuracy score on test data is: \", accuracy_score)"
      ],
      "metadata": {
        "colab": {
          "base_uri": "https://localhost:8080/"
        },
        "id": "gBXFKI9h3Qh9",
        "outputId": "e854a6a1-5b5d-4256-ae48-0c8b5c1d7877"
      },
      "execution_count": 61,
      "outputs": [
        {
          "output_type": "stream",
          "name": "stdout",
          "text": [
            "The accuracy score on test data is:  0.945\n"
          ]
        }
      ]
    },
    {
      "cell_type": "code",
      "source": [
        "plot_confusion_matrix(multinomial, X_test, y_test)\n",
        "plt.show()"
      ],
      "metadata": {
        "colab": {
          "base_uri": "https://localhost:8080/",
          "height": 279
        },
        "id": "Wj6D98ih3TM2",
        "outputId": "453ec66b-5d10-4998-90a6-7d374c2dbafa"
      },
      "execution_count": 62,
      "outputs": [
        {
          "output_type": "display_data",
          "data": {
            "image/png": "[encoded data removed]",
            "text/plain": [
              "<Figure size 432x288 with 2 Axes>"
            ]
          },
          "metadata": {
            "needs_background": "light"
          }
        }
      ]
    },
    {
      "cell_type": "code",
      "source": [
        "user_review = input(\"Please enter a review: \")\n",
        "# convert to lower case\n",
        "user_review = user_review.lower()\n",
        "# remove URLs and HTML\n",
        "user_review = user_review.replace(r'http\\S+', r'')\n",
        "user_review = re.sub('<[^<]+?>', '', user_review)\n",
        "# perform contractions\n",
        "user_review = expandWord(user_review)\n",
        "# convert to lower case agProcess finished with exit code 132 (interrupted by signal 4: SIGILL)ain\n",
        "user_review = user_review.lower()\n",
        "# remove non alphabetical characters\n",
        "user_review = re.sub(r'[^A-Za-z ]+', '', user_review)\n",
        "# remove extra spaces between words\n",
        "user_review = re.sub(' +', ' ', user_review)\n",
        "# remove stop words\n",
        "user_review = ' '.join([word for word in user_review.split() if word not in (stop)])\n",
        "# perform lemmatization\n",
        "user_review = \" \".join([lemmatizer.lemmatize(str(w)) for w in user_review.split()])\n",
        "user_review = vectorizer.transform([user_review])\n",
        "# predict sentiment\n",
        "predict = multinomial.predict(user_review)\n",
        "print(\"The sentiment for the review is: \", predict)"
      ],
      "metadata": {
        "colab": {
          "base_uri": "https://localhost:8080/"
        },
        "id": "pqNwnM6Y3VpT",
        "outputId": "70bf4235-78eb-4bb0-c5b2-0cc7228fed6b"
      },
      "execution_count": 63,
      "outputs": [
        {
          "output_type": "stream",
          "name": "stdout",
          "text": [
            "Please enter a review: I love it so much!!\n",
            "The sentiment for the review is:  [1]\n"
          ]
        }
      ]
    }
  ]
}